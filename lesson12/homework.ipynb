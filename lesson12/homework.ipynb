{
 "cells": [
  {
   "cell_type": "code",
   "execution_count": 3,
   "metadata": {},
   "outputs": [],
   "source": [
    "url = 'https://tcgbusfs.blob.core.windows.net/dotapp/youbike/v2/youbike_immediate.json'"
   ]
  },
  {
   "cell_type": "code",
   "execution_count": 5,
   "metadata": {},
   "outputs": [
    {
     "name": "stdout",
     "output_type": "stream",
     "text": [
      "Asset\n"
     ]
    }
   ],
   "source": [
    "import requests\n",
    "from requests import Response\n",
    "import csv\n",
    "from pydantic import root_model,BaseModel\n",
    "from pprint import pprint\n",
    "def get_request(link:str)->Response|None:\n",
    "    try:\n",
    "        re:Response=requests.get(link)\n",
    "        re.raise_for_status()\n",
    "        if re.status_code==200:\n",
    "            print(\"Asset\")\n",
    "            return re\n",
    "        else:\n",
    "            print(\"Fail\")\n",
    "    except:\n",
    "        print(\"Fail\")\n",
    "        return None\n",
    "\n",
    "req:requests=get_request(url)"
   ]
  }
 ],
 "metadata": {
  "kernelspec": {
   "display_name": "Python 3",
   "language": "python",
   "name": "python3"
  },
  "language_info": {
   "codemirror_mode": {
    "name": "ipython",
    "version": 3
   },
   "file_extension": ".py",
   "mimetype": "text/x-python",
   "name": "python",
   "nbconvert_exporter": "python",
   "pygments_lexer": "ipython3",
   "version": "3.10.12"
  }
 },
 "nbformat": 4,
 "nbformat_minor": 2
}
