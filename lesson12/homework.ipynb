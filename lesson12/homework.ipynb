{
 "cells": [
  {
   "cell_type": "code",
   "execution_count": null,
   "metadata": {},
   "outputs": [],
   "source": [
    "url = 'https://tcgbusfs.blob.core.windows.net/dotapp/youbike/v2/youbike_immediate.json'"
   ]
  },
  {
   "cell_type": "code",
   "execution_count": null,
   "metadata": {},
   "outputs": [],
   "source": [
    "import requests\n",
    "from requests import Response\n",
    "import p\n",
    "def get_request(link:str)->Response|None:\n",
    "    try:\n",
    "        re:Response=requests.get(link)\n",
    "        re.raise_for_status()\n",
    "        if re.status_code==200:\n",
    "            print(\"Asset\")\n",
    "            return re\n",
    "        else:\n",
    "            print(\"Fail\")\n",
    "    except:\n",
    "        print(\"Fail\")\n",
    "        return None\n",
    "\n"
   ]
  }
 ],
 "metadata": {
  "language_info": {
   "name": "python"
  }
 },
 "nbformat": 4,
 "nbformat_minor": 2
}
