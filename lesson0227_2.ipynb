{
 "cells": [
  {
   "cell_type": "code",
   "execution_count": 3,
   "metadata": {},
   "outputs": [
    {
     "name": "stdout",
     "output_type": "stream",
     "text": [
      "<class 'float'>\n",
      "y=5.55\n"
     ]
    }
   ],
   "source": [
    "y= eval(input(\"y=\"))\n",
    "print(type(y))\n",
    "print(f\"y={y:.2f}\")"
   ]
  },
  {
   "cell_type": "code",
   "execution_count": 5,
   "metadata": {},
   "outputs": [
    {
     "name": "stdout",
     "output_type": "stream",
     "text": [
      "r=100.00,a=31415.93\n"
     ]
    }
   ],
   "source": [
    "import math\n",
    "r=eval(input(\"r=\"))\n",
    "a=r**2*math.pi\n",
    "print(f\"r={r:.2f},a={a:.2f}\")"
   ]
  },
  {
   "cell_type": "code",
   "execution_count": 9,
   "metadata": {},
   "outputs": [
    {
     "name": "stdout",
     "output_type": "stream",
     "text": [
      "身高:172,體重:74\n",
      "BMI:25.01\n"
     ]
    }
   ],
   "source": [
    "high=eval(input(\"身高cm\"))/100\n",
    "weight=eval(input(\"體重kg\"))\n",
    "bmi=weight/(high**2)\n",
    "print(f\"身高:{high*100:.0f},體重:{weight}\")\n",
    "print(f\"BMI:{bmi:.2f}\")\n"
   ]
  }
 ],
 "metadata": {
  "kernelspec": {
   "display_name": "Python 3",
   "language": "python",
   "name": "python3"
  },
  "language_info": {
   "codemirror_mode": {
    "name": "ipython",
    "version": 3
   },
   "file_extension": ".py",
   "mimetype": "text/x-python",
   "name": "python",
   "nbconvert_exporter": "python",
   "pygments_lexer": "ipython3",
   "version": "3.10.12"
  }
 },
 "nbformat": 4,
 "nbformat_minor": 2
}
