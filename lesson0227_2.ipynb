{
 "cells": [
  {
   "cell_type": "code",
   "execution_count": 1,
   "metadata": {},
   "outputs": [
    {
     "ename": "SyntaxError",
     "evalue": "invalid syntax (<string>, line 0)",
     "output_type": "error",
     "traceback": [
      "Traceback \u001b[0;36m(most recent call last)\u001b[0m:\n",
      "\u001b[0m  File \u001b[1;32m~/.local/lib/python3.10/site-packages/IPython/core/interactiveshell.py:3577\u001b[0m in \u001b[1;35mrun_code\u001b[0m\n    exec(code_obj, self.user_global_ns, self.user_ns)\u001b[0m\n",
      "\u001b[0;36m  Cell \u001b[0;32mIn[1], line 1\u001b[0;36m\n\u001b[0;31m    y= eval(input(\"y=\"))\u001b[0;36m\n",
      "\u001b[0;36m  File \u001b[0;32m<string>\u001b[0;36m\u001b[0m\n\u001b[0;31m    \u001b[0m\n\u001b[0m    ^\u001b[0m\n\u001b[0;31mSyntaxError\u001b[0m\u001b[0;31m:\u001b[0m invalid syntax\n"
     ]
    }
   ],
   "source": [
    "y= eval(input(\"y=\"))\n",
    "print(type(y))\n",
    "print(f\"y={y:.2f}\")"
   ]
  },
  {
   "cell_type": "code",
   "execution_count": 15,
   "metadata": {},
   "outputs": [
    {
     "name": "stdout",
     "output_type": "stream",
     "text": [
      "10的因數有:\n",
      "1 2 5 10 "
     ]
    }
   ],
   "source": [
    "try:\n",
    "    a=int(input(\"請輸入正整數\"))\n",
    "except:\n",
    "    print(\"格式錯誤\")\n",
    "else:\n",
    "    print(f'{a}的因數有:')\n",
    "    for i in range (1,a+1):\n",
    "        if a%i ==0:\n",
    "            print(f\"{i} \",end='')\n"
   ]
  },
  {
   "cell_type": "code",
   "execution_count": 4,
   "metadata": {},
   "outputs": [
    {
     "name": "stdout",
     "output_type": "stream",
     "text": [
      "4\n",
      "12\n",
      "2\n"
     ]
    }
   ],
   "source": [
    "sum1=0\n",
    "sum=0\n",
    "all=0\n",
    "while True:\n",
    "    i=int(input())\n",
    "    sum+=1\n",
    "    if i<0:\n",
    "        break\n",
    "    elif i%2==1:\n",
    "        \n",
    "        continue\n",
    "    all+=i\n",
    "    sum1+=1\n",
    "\n",
    "print(sum)\n",
    "print(all)\n",
    "print(sum1)\n",
    "\n",
    "    \n"
   ]
  },
  {
   "cell_type": "code",
   "execution_count": null,
   "metadata": {},
   "outputs": [],
   "source": []
  },
  {
   "cell_type": "code",
   "execution_count": 17,
   "metadata": {},
   "outputs": [
    {
     "name": "stdout",
     "output_type": "stream",
     "text": [
      "\n",
      "=======\n",
      "1 \n",
      "=======\n",
      "1 2 \n",
      "=======\n",
      "1 2 3 \n",
      "=======\n"
     ]
    }
   ],
   "source": [
    "for i in range(1,5):\n",
    "    for j in range(1,i):\n",
    "        print(f'{j} ',end='')\n",
    "    print(\"\\n=======\")\n",
    "\n"
   ]
  },
  {
   "cell_type": "code",
   "execution_count": 21,
   "metadata": {},
   "outputs": [
    {
     "name": "stdout",
     "output_type": "stream",
     "text": [
      "1  *  1  =1  1  *  2  =2  1  *  3  =3  1  *  4  =4  1  *  5  =5  1  *  6  =6  1  *  7  =7  1  *  8  =8  1  *  9  =9  \n",
      "2  *  1  =2  2  *  2  =4  2  *  3  =6  2  *  4  =8  2  *  5  =10 2  *  6  =12 2  *  7  =14 2  *  8  =16 2  *  9  =18 \n",
      "3  *  1  =3  3  *  2  =6  3  *  3  =9  3  *  4  =12 3  *  5  =15 3  *  6  =18 3  *  7  =21 3  *  8  =24 3  *  9  =27 \n",
      "4  *  1  =4  4  *  2  =8  4  *  3  =12 4  *  4  =16 4  *  5  =20 4  *  6  =24 4  *  7  =28 4  *  8  =32 4  *  9  =36 \n",
      "5  *  1  =5  5  *  2  =10 5  *  3  =15 5  *  4  =20 5  *  5  =25 5  *  6  =30 5  *  7  =35 5  *  8  =40 5  *  9  =45 \n",
      "6  *  1  =6  6  *  2  =12 6  *  3  =18 6  *  4  =24 6  *  5  =30 6  *  6  =36 6  *  7  =42 6  *  8  =48 6  *  9  =54 \n",
      "7  *  1  =7  7  *  2  =14 7  *  3  =21 7  *  4  =28 7  *  5  =35 7  *  6  =42 7  *  7  =49 7  *  8  =56 7  *  9  =63 \n",
      "8  *  1  =8  8  *  2  =16 8  *  3  =24 8  *  4  =32 8  *  5  =40 8  *  6  =48 8  *  7  =56 8  *  8  =64 8  *  9  =72 \n",
      "9  *  1  =9  9  *  2  =18 9  *  3  =27 9  *  4  =36 9  *  5  =45 9  *  6  =54 9  *  7  =63 9  *  8  =72 9  *  9  =81 \n"
     ]
    }
   ],
   "source": [
    "for i in range(1,10):\n",
    "    for j in range(1,10):\n",
    "        print(f\"{i:<2d} * {j:2d}  ={i*j:<2d} \",end='')\n",
    "    print()"
   ]
  },
  {
   "cell_type": "code",
   "execution_count": null,
   "metadata": {},
   "outputs": [],
   "source": []
  },
  {
   "cell_type": "code",
   "execution_count": 23,
   "metadata": {},
   "outputs": [
    {
     "name": "stdout",
     "output_type": "stream",
     "text": [
      "4  3400\n"
     ]
    }
   ],
   "source": [
    "mon=0\n",
    "m=0\n",
    "while mon<3000:\n",
    "    mon+=int(input(f\"{m}\"))\n",
    "    m+=1\n",
    "print(f\"{m}  {mon}\")"
   ]
  },
  {
   "cell_type": "code",
   "execution_count": 10,
   "metadata": {},
   "outputs": [
    {
     "name": "stdout",
     "output_type": "stream",
     "text": [
      "5\n"
     ]
    }
   ],
   "source": [
    "a=True\n",
    "if not a ==False:\n",
    "    print(\"5\")"
   ]
  },
  {
   "cell_type": "code",
   "execution_count": 16,
   "metadata": {},
   "outputs": [],
   "source": [
    "s=int(input())\n",
    "b=int(input())\n",
    "if b==100 and s==100:\n",
    "    print(\"A\")\n",
    "elif b==100 or s==100:\n",
    "    print(\"B\")"
   ]
  },
  {
   "cell_type": "code",
   "execution_count": 17,
   "metadata": {},
   "outputs": [
    {
     "name": "stdout",
     "output_type": "stream",
     "text": [
      "A\n",
      "B\n",
      "c\n",
      "d\n",
      "e\n",
      "f\n",
      "g\n"
     ]
    }
   ],
   "source": [
    "st=\"ABcdefg\"\n",
    "for i in st:\n",
    "    print(i)"
   ]
  },
  {
   "cell_type": "code",
   "execution_count": 3,
   "metadata": {},
   "outputs": [
    {
     "name": "stdout",
     "output_type": "stream",
     "text": [
      "A\n"
     ]
    }
   ],
   "source": [
    "try:\n",
    "    s=int(input())\n",
    "\n",
    "except :\n",
    "    print(\"fail\")\n",
    "else:\n",
    "    if s>=90:\n",
    "        print(\"A\")\n",
    "    elif s>=80:\n",
    "        print(\"B\")\n",
    "    elif s>=70:\n",
    "        print(\"C\")\n",
    "    elif s>=60:\n",
    "        print(\"D\")\n",
    "    else :\n",
    "        print(\"F\")"
   ]
  },
  {
   "cell_type": "code",
   "execution_count": null,
   "metadata": {},
   "outputs": [
    {
     "name": "stdout",
     "output_type": "stream",
     "text": [
      "r=100.00,a=31415.93\n"
     ]
    }
   ],
   "source": [
    "import math\n",
    "r=eval(input(\"r=\"))\n",
    "a=r**2*math.pi\n",
    "print(f\"r={r:.2f},a={a:.2f}\")"
   ]
  },
  {
   "cell_type": "code",
   "execution_count": 9,
   "metadata": {},
   "outputs": [
    {
     "name": "stdout",
     "output_type": "stream",
     "text": [
      "您的BMI是40.000\n",
      "您的體重:重度肥胖\n"
     ]
    }
   ],
   "source": [
    "try:\n",
    "    high=eval(input(\"身高cm\"))/100\n",
    "    weight=eval(input(\"體重kg\"))\n",
    "except:\n",
    "    print(\"格式錯誤\")\n",
    "bmi=weight/(high**2)\n",
    "print(f\"您的BMI是{bmi:.3f}\")\n",
    "print(\"您的體重:\",end='')\n",
    "if bmi<18.5:\n",
    "    print(\"體重過輕\")\n",
    "elif bmi<24:\n",
    "    print(\"正常範圍\")\n",
    "elif bmi<27 :\n",
    "    print(\"過重\")\n",
    "elif bmi<30 :\n",
    "    print(\"輕度肥胖\")\n",
    "elif bmi<35 :\n",
    "    print(\"中度肥胖\")\n",
    "else :\n",
    "    print(\"重度肥胖\")\n",
    "#print(f\"身高:{high*100:.0f},體重:{weight}\")\n"
   ]
  },
  {
   "cell_type": "code",
   "execution_count": 8,
   "metadata": {},
   "outputs": [
    {
     "name": "stdout",
     "output_type": "stream",
     "text": [
      "身高cm體重kg您的BMI是90.000\n",
      "您的體重:重度肥胖\n"
     ]
    }
   ],
   "source": [
    "import pyinputplus as pyip\n",
    "\n",
    "high=pyip.inputFloat(\"身高cm\")/100\n",
    "weight=pyip.inputFloat(\"體重kg\")\n",
    "\n",
    "bmi=weight/(high**2)\n",
    "print(f\"您的BMI是{bmi:.3f}\")\n",
    "print(\"您的體重:\",end='')\n",
    "if bmi<18.5:\n",
    "    print(\"體重過輕\")\n",
    "elif bmi<24:\n",
    "    print(\"正常範圍\")\n",
    "elif bmi<27 :\n",
    "    print(\"過重\")\n",
    "elif bmi<30 :\n",
    "    print(\"輕度肥胖\")\n",
    "elif bmi<35 :\n",
    "    print(\"中度肥胖\")\n",
    "else :\n",
    "    print(\"重度肥胖\")\n"
   ]
  }
 ],
 "metadata": {
  "kernelspec": {
   "display_name": "Python 3",
   "language": "python",
   "name": "python3"
  },
  "language_info": {
   "codemirror_mode": {
    "name": "ipython",
    "version": 3
   },
   "file_extension": ".py",
   "mimetype": "text/x-python",
   "name": "python",
   "nbconvert_exporter": "python",
   "pygments_lexer": "ipython3",
   "version": "2.7.undefined"
  }
 },
 "nbformat": 4,
 "nbformat_minor": 2
}
