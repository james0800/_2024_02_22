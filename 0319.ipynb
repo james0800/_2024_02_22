{
 "cells": [
  {
   "cell_type": "code",
   "execution_count": 46,
   "metadata": {},
   "outputs": [
    {
     "name": "stdout",
     "output_type": "stream",
     "text": [
      "ABC\n",
      "ABC\n",
      "<class '__main__.std'>\n",
      "iuhihui\n",
      "54656\n",
      "75.0\n"
     ]
    }
   ],
   "source": [
    "class person():\n",
    "    \n",
    "    def __init__(self,na:str) :\n",
    "        self.name=na\n",
    "    def call(self):\n",
    "        print(self.name)\n",
    "\n",
    "class std(person):\n",
    "    ID:int\n",
    "    ch:int=0\n",
    "    math:int=0\n",
    "\n",
    "    def __init__(self, na: str,id:int):\n",
    "        super().__init__(na)\n",
    "        self.ID=id\n",
    "    def s(self,a:int,b:int):\n",
    "        self.ch=a\n",
    "        self.math=b\n",
    "    def sun(self)->int:\n",
    "        return self.math+self.ch\n",
    "    \n",
    "    @property\n",
    "    def ave(self)->float:\n",
    "        return self.sun()/2\n",
    "    \n",
    "p2=person(na=\"ABC\")\n",
    "#print(guy.name)\n",
    "print(p2.name)\n",
    "p2.call()\n",
    "me=std(\"iuhihui\",54656)\n",
    "print(type(me))\n",
    "me.call()\n",
    "print(me.ID)\n",
    "me.s(100,50)\n",
    "print(me.ave)"
   ]
  },
  {
   "cell_type": "code",
   "execution_count": 49,
   "metadata": {},
   "outputs": [
    {
     "name": "stdout",
     "output_type": "stream",
     "text": [
      "jmes\n",
      "12346\n",
      "50\n",
      "100\n",
      "75.0\n"
     ]
    }
   ],
   "source": [
    "from pydantic import BaseModel\n",
    "\n",
    "class std1(BaseModel):\n",
    "    name:str\n",
    "    ID:int\n",
    "    a:int\n",
    "    b:int\n",
    "    def sum(self)->int:\n",
    "        return self.b+self.a\n",
    "    @property\n",
    "    def ave(self)->float:\n",
    "        return self.sum()/2\n",
    "    \n",
    "i=std1.model_validate({\"name\":\"jmes\",\"ID\":12346,\"a\":50,\"b\":100})\n",
    "print(i.name)\n",
    "print(i.ID)\n",
    "print(i.a)\n",
    "print(i.b)\n",
    "print(i.ave)\n"
   ]
  },
  {
   "cell_type": "code",
   "execution_count": 4,
   "metadata": {},
   "outputs": [
    {
     "ename": "TypeError",
     "evalue": "'NoneType' object is not callable",
     "output_type": "error",
     "traceback": [
      "\u001b[0;31m---------------------------------------------------------------------------\u001b[0m",
      "\u001b[0;31mTypeError\u001b[0m                                 Traceback (most recent call last)",
      "Cell \u001b[0;32mIn[4], line 38\u001b[0m\n\u001b[1;32m     36\u001b[0m guy:AllData\u001b[38;5;241m=\u001b[39mAllData\u001b[38;5;241m.\u001b[39mmodel_validate(names)\n\u001b[1;32m     37\u001b[0m \u001b[38;5;28;01mfor\u001b[39;00m i \u001b[38;5;129;01min\u001b[39;00m guy:\n\u001b[0;32m---> 38\u001b[0m     \u001b[43mi\u001b[49m\u001b[38;5;241;43m.\u001b[39;49m\u001b[43mf\u001b[49m\u001b[43m(\u001b[49m\u001b[43m)\u001b[49m\n\u001b[1;32m     39\u001b[0m     \u001b[38;5;66;03m#print(f\"{i.name} {i.bmi} {i.bmi_}\")\u001b[39;00m\n",
      "\u001b[0;31mTypeError\u001b[0m: 'NoneType' object is not callable"
     ]
    }
   ],
   "source": [
    "from pydantic import BaseModel,RootModel\n",
    "names = [\n",
    "    {'name':'徐xx','height':178,'weight':78},\n",
    "    {'name':'王xx','height':168,'weight':75},\n",
    "    {'name':'張xx','height':183,'weight':78},\n",
    "]\n",
    "class data(BaseModel):\n",
    "    name:str\n",
    "    height:int\n",
    "    weight:int\n",
    "    bmi:float=0\n",
    "    bmi_:str=\"\"\n",
    "    @property\n",
    "    def f(self):\n",
    "        self.bmi=self.weight/(self.height/100)**2\n",
    "        if self.bmi<18.5:\n",
    "            self.bmi_=\"體重過輕\"\n",
    "        elif self.bmi<24:\n",
    "            self.bmi_=\"正常範圍\"\n",
    "        elif self.bmi<27 :\n",
    "            self.bmi_=\"過重\"\n",
    "        elif self.bmi<30 :\n",
    "            self.bmi_=\"輕度肥胖\"\n",
    "        elif self.bmi<35 :\n",
    "            self.bmi_=\"中度肥胖\"\n",
    "        else :\n",
    "            self.bmi_=\"重度肥胖\"\n",
    "\n",
    "class AllData(RootModel):\n",
    "    root:list[data]\n",
    "    def __iter__(self):\n",
    "        return iter(self.root)\n",
    "    def __getitem__(self,indext):\n",
    "        return self.root[indext]\n",
    "\n",
    "guy:AllData=AllData.model_validate(names)\n",
    "for i in guy:\n",
    "    i.f()\n",
    "    print(f\"{i.name} {i.bmi} {i.bmi_}\")\n"
   ]
  }
 ],
 "metadata": {
  "kernelspec": {
   "display_name": "Python 3",
   "language": "python",
   "name": "python3"
  },
  "language_info": {
   "codemirror_mode": {
    "name": "ipython",
    "version": 3
   },
   "file_extension": ".py",
   "mimetype": "text/x-python",
   "name": "python",
   "nbconvert_exporter": "python",
   "pygments_lexer": "ipython3",
   "version": "3.10.12"
  }
 },
 "nbformat": 4,
 "nbformat_minor": 2
}
