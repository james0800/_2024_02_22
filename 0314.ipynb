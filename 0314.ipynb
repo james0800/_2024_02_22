{
 "cells": [
  {
   "cell_type": "code",
   "execution_count": 5,
   "metadata": {},
   "outputs": [
    {
     "name": "stdout",
     "output_type": "stream",
     "text": [
      "80\n",
      "90\n",
      "100\n",
      "80\n",
      "90\n",
      "100\n"
     ]
    }
   ],
   "source": [
    "from pydantic import RootModel\n",
    "class Scores(RootModel):\n",
    "    root: list[int]\n",
    "\n",
    "    def __iter__(self):\n",
    "        return iter(self.root)\n",
    "\n",
    "    def __getitem__(self, item):\n",
    "        return self.root[item]\n",
    "scores = Scores(root=[80, 90, 100])#初始化建立實體\n",
    "for item in scores:\n",
    "    print(item)\n",
    "scores[0], scores[1], scores[2]\n",
    "scores = Scores.model_validate([80, 90, 100]) #class 的method()建立實體\n",
    "for item in scores:\n",
    "    print(item)"
   ]
  },
  {
   "cell_type": "code",
   "execution_count": 6,
   "metadata": {},
   "outputs": [
    {
     "name": "stdout",
     "output_type": "stream",
     "text": [
      "{'a': 2, 'v': 5, 'd': 50}\n",
      "{'a': 2, 'v': 5, 'd': 50}\n",
      "{'a': 2, 'v': 5, 'd': 50}\n"
     ]
    },
    {
     "data": {
      "text/plain": [
       "{'a': 2, 'v': 5, 'd': 50}"
      ]
     },
     "execution_count": 6,
     "metadata": {},
     "output_type": "execute_result"
    }
   ],
   "source": [
    "dic={\"a\":2,\"v\":5,\"d\":50}\n",
    "for i in dic:\n",
    "    print(dic)\n",
    "dic"
   ]
  },
  {
   "cell_type": "code",
   "execution_count": 9,
   "metadata": {},
   "outputs": [
    {
     "data": {
      "text/plain": [
       "{'c': 0, 'a': 2, 'd': 8}"
      ]
     },
     "execution_count": 9,
     "metadata": {},
     "output_type": "execute_result"
    }
   ],
   "source": [
    "import random\n",
    "dic:dict[str:int]={}\n",
    "for i in {\"a\",\"c\",\"d\"}:\n",
    "    dic[i]=random.randint(0,10)\n",
    "\n",
    "dic"
   ]
  },
  {
   "cell_type": "code",
   "execution_count": 13,
   "metadata": {},
   "outputs": [
    {
     "data": {
      "text/plain": [
       "{'c': 1, 'a': 2, 'd': 4}"
      ]
     },
     "execution_count": 13,
     "metadata": {},
     "output_type": "execute_result"
    }
   ],
   "source": [
    "import random\n",
    "dic:dict[str:int]={i:random.randint(0,10) for i in {\"a\",\"c\",\"d\"}}\n",
    "dic"
   ]
  },
  {
   "cell_type": "code",
   "execution_count": 10,
   "metadata": {},
   "outputs": [
    {
     "name": "stdout",
     "output_type": "stream",
     "text": [
      "徐xx  bmi:24.618 過重\n",
      "王xx  bmi:26.573 過重\n",
      "張xx  bmi:23.291 正常範圍\n"
     ]
    }
   ],
   "source": [
    "data:list[dict[str:float]]=[\n",
    "    {'name':'徐xx','height':178,'weight':78},\n",
    "    {'name':'王xx','height':168,'weight':75},\n",
    "    {'name':'張xx','height':183,'weight':78},\n",
    "]\n",
    "def main():\n",
    "    for i in data:\n",
    "        high=i[\"height\"]\n",
    "        weight=i[\"weight\"]\n",
    "        bmi=weight/((high/100)**2)\n",
    "        name=i[\"name\"]\n",
    "        print(f\"{ name }  bmi:{bmi:.3f} \",end=\"\")\n",
    "\n",
    "        if bmi<18.5:\n",
    "            print(\"體重過輕\")\n",
    "        elif bmi<24:\n",
    "            print(\"正常範圍\")\n",
    "        elif bmi<27 :\n",
    "            print(\"過重\")\n",
    "        elif bmi<30 :\n",
    "            print(\"輕度肥胖\")\n",
    "        elif bmi<35 :\n",
    "            print(\"中度肥胖\")\n",
    "        else :\n",
    "            print(\"重度肥胖\")\n",
    "        \n",
    "\n",
    "if __name__==\"__main__\":    \n",
    "    main()\n",
    "    \n"
   ]
  }
 ],
 "metadata": {
  "kernelspec": {
   "display_name": "Python 3",
   "language": "python",
   "name": "python3"
  },
  "language_info": {
   "codemirror_mode": {
    "name": "ipython",
    "version": 3
   },
   "file_extension": ".py",
   "mimetype": "text/x-python",
   "name": "python",
   "nbconvert_exporter": "python",
   "pygments_lexer": "ipython3",
   "version": "3.10.12"
  }
 },
 "nbformat": 4,
 "nbformat_minor": 2
}
