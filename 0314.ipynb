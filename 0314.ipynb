{
 "cells": [
  {
   "cell_type": "code",
   "execution_count": 5,
   "metadata": {},
   "outputs": [
    {
     "name": "stdout",
     "output_type": "stream",
     "text": [
      "80\n",
      "90\n",
      "100\n",
      "80\n",
      "90\n",
      "100\n"
     ]
    }
   ],
   "source": [
    "from pydantic import RootModel\n",
    "class Scores(RootModel):\n",
    "    root: list[int]\n",
    "\n",
    "    def __iter__(self):\n",
    "        return iter(self.root)\n",
    "\n",
    "    def __getitem__(self, item):\n",
    "        return self.root[item]\n",
    "scores = Scores(root=[80, 90, 100])#初始化建立實體\n",
    "for item in scores:\n",
    "    print(item)\n",
    "scores[0], scores[1], scores[2]\n",
    "scores = Scores.model_validate([80, 90, 100]) #class 的method()建立實體\n",
    "for item in scores:\n",
    "    print(item)"
   ]
  },
  {
   "cell_type": "code",
   "execution_count": 6,
   "metadata": {},
   "outputs": [
    {
     "name": "stdout",
     "output_type": "stream",
     "text": [
      "{'a': 2, 'v': 5, 'd': 50}\n",
      "{'a': 2, 'v': 5, 'd': 50}\n",
      "{'a': 2, 'v': 5, 'd': 50}\n"
     ]
    },
    {
     "data": {
      "text/plain": [
       "{'a': 2, 'v': 5, 'd': 50}"
      ]
     },
     "execution_count": 6,
     "metadata": {},
     "output_type": "execute_result"
    }
   ],
   "source": [
    "dic={\"a\":2,\"v\":5,\"d\":50}\n",
    "for i in dic:\n",
    "    print(dic)\n",
    "dic"
   ]
  },
  {
   "cell_type": "code",
   "execution_count": 9,
   "metadata": {},
   "outputs": [
    {
     "data": {
      "text/plain": [
       "{'c': 0, 'a': 2, 'd': 8}"
      ]
     },
     "execution_count": 9,
     "metadata": {},
     "output_type": "execute_result"
    }
   ],
   "source": [
    "import random\n",
    "dic:dict[str:int]={}\n",
    "for i in {\"a\",\"c\",\"d\"}:\n",
    "    dic[i]=random.randint(0,10)\n",
    "\n",
    "dic"
   ]
  },
  {
   "cell_type": "code",
   "execution_count": 13,
   "metadata": {},
   "outputs": [
    {
     "data": {
      "text/plain": [
       "{'c': 1, 'a': 2, 'd': 4}"
      ]
     },
     "execution_count": 13,
     "metadata": {},
     "output_type": "execute_result"
    }
   ],
   "source": [
    "import random\n",
    "dic:dict[str:int]={i:random.randint(0,10) for i in {\"a\",\"c\",\"d\"}}\n",
    "dic"
   ]
  },
  {
   "cell_type": "code",
   "execution_count": 38,
   "metadata": {},
   "outputs": [
    {
     "name": "stdout",
     "output_type": "stream",
     "text": [
      "0\n",
      "1\n",
      "2\n"
     ]
    }
   ],
   "source": [
    "data:list[dict[str:float]]=[\n",
    "    {\"name\":\"john\",\"heigh\":19,\"weight\":60,\"bmi\":0,\"a\":\"\"},\n",
    "    {\"name\":\"arm\",\"heigh\":10,\"weight\":65,\"bmi\":0,\"a\":\"\"},\n",
    "    {\"name\":\"joy\",\"heigh\":18,\"weight\":70,\"bmi\":0,\"a\":\"\"},\n",
    "]\n",
    "\n",
    "def bmi(weight:float,high:float,inda:int):\n",
    "    bmi=weight/((high/100)**2)\n",
    "    data[inda][\"bmi\"]=bmi\n",
    "    if bmi<18.5:\n",
    "        data[inda][\"a\"]=\"體重過輕\"       \n",
    "    elif bmi<24:\n",
    "        data[inda][\"a\"]=\"正常範圍\"\n",
    "    elif bmi<27 :\n",
    "        data[inda][\"a\"]=\"體重過輕\"\n",
    "    elif bmi<30 :\n",
    "        data[inda][\"a\"]=\"輕度肥胖\"\n",
    "    elif bmi<35 :\n",
    "        data[inda][\"a\"]=\"中度肥胖\"\n",
    "    else :\n",
    "        data[inda][\"a\"]=\"重度肥胖\"\n",
    "    return 0\n",
    "\n",
    "def main():\n",
    "    for i in range(0,3):\n",
    "        bmi(data[i][\"heigh\"],)\n",
    "\n",
    "  \n",
    "main()\n",
    "    \n"
   ]
  }
 ],
 "metadata": {
  "kernelspec": {
   "display_name": "Python 3",
   "language": "python",
   "name": "python3"
  },
  "language_info": {
   "codemirror_mode": {
    "name": "ipython",
    "version": 3
   },
   "file_extension": ".py",
   "mimetype": "text/x-python",
   "name": "python",
   "nbconvert_exporter": "python",
   "pygments_lexer": "ipython3",
   "version": "3.10.12"
  }
 },
 "nbformat": 4,
 "nbformat_minor": 2
}
