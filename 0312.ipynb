{
 "cells": [
  {
   "cell_type": "code",
   "execution_count": 18,
   "metadata": {},
   "outputs": [
    {
     "name": "stdout",
     "output_type": "stream",
     "text": [
      "Hi jmes\n"
     ]
    }
   ],
   "source": [
    "def a(name:str):\n",
    "    return f\"Hi {name}\"\n",
    "\n",
    "\n",
    "print(a)"
   ]
  },
  {
   "cell_type": "code",
   "execution_count": 2,
   "metadata": {},
   "outputs": [
    {
     "name": "stdout",
     "output_type": "stream",
     "text": [
      "(1, 2, 3)\n"
     ]
    },
    {
     "data": {
      "text/plain": [
       "(1, 2, 3)"
      ]
     },
     "execution_count": 2,
     "metadata": {},
     "output_type": "execute_result"
    }
   ],
   "source": [
    "a=(1,2,3)\n",
    "print(a)\n",
    "c,v,f=1,2,3\n",
    "c,v,f\n"
   ]
  },
  {
   "cell_type": "code",
   "execution_count": 9,
   "metadata": {},
   "outputs": [
    {
     "name": "stdout",
     "output_type": "stream",
     "text": [
      "<class 'int'>\n",
      "<class 'str'>\n",
      "<class 'float'>\n",
      "555\n"
     ]
    }
   ],
   "source": [
    "arr=[0,\"S\",6.2]\n",
    "for i in arr:\n",
    "    print(type(i))\n",
    "a=1\n",
    "if type(a)==int:\n",
    "    print(555)"
   ]
  },
  {
   "cell_type": "code",
   "execution_count": 19,
   "metadata": {},
   "outputs": [
    {
     "data": {
      "text/plain": [
       "[14, 24, 84, 82, 53, 20, 61, 7, 1, 38]"
      ]
     },
     "execution_count": 19,
     "metadata": {},
     "output_type": "execute_result"
    }
   ],
   "source": [
    "import random\n",
    "a:list[int]=[]\n",
    "for i in range(0,10):\n",
    "    a.append(random.randint(0,100))\n",
    "a"
   ]
  },
  {
   "cell_type": "code",
   "execution_count": 27,
   "metadata": {},
   "outputs": [
    {
     "data": {
      "text/plain": [
       "[0, 5, 9]"
      ]
     },
     "execution_count": 27,
     "metadata": {},
     "output_type": "execute_result"
    }
   ],
   "source": [
    "arr:list[int]=[int(input()) for i in range(0,3)]\n",
    "\n",
    "arr"
   ]
  },
  {
   "cell_type": "code",
   "execution_count": 22,
   "metadata": {},
   "outputs": [
    {
     "name": "stdout",
     "output_type": "stream",
     "text": [
      "59\n",
      "input1~100 right\n",
      "1\n",
      "63\n",
      "input1~100 smaller\n",
      "input1~100 Number must be at maximum 100.\n",
      "input1~100 "
     ]
    }
   ],
   "source": [
    "import random\n",
    "import pyinputplus as pyip\n",
    "while True:\n",
    "    min=1\n",
    "    max=100\n",
    "    i=-10\n",
    "    times=0\n",
    "    anser=random.randint(min,max)\n",
    "    print(anser)\n",
    "    while True:\n",
    "        i=pyip.inputInt(f\"input{min}~{max} \",min=min,max=max)\n",
    "        times+=1\n",
    "        if i==anser :\n",
    "            print(\"right\")\n",
    "            break\n",
    "        elif i>anser:\n",
    "            print(\"bigger\")\n",
    "            max=i\n",
    "        elif i<anser:\n",
    "            print(\"smaller\")\n",
    "            min=i\n",
    "    print(times)\n",
    "    if input(\"contuin?\")==\"N\":\n",
    "        break"
   ]
  },
  {
   "cell_type": "code",
   "execution_count": 3,
   "metadata": {},
   "outputs": [
    {
     "name": "stdout",
     "output_type": "stream",
     "text": [
      "('a', 'b', 511, 1.13)\n",
      "{'d': 'a', 'c': 'b', 'b': 511, 'a': 1.13}\n"
     ]
    }
   ],
   "source": [
    "def f(a:str=\"FF\",b:str=\"DD\",c:str=\"gg\"):\n",
    "    print(f\"{a} {b} {c}\")\n",
    "\n",
    "\n",
    "def f2(*arr):\n",
    "    print(arr)\n",
    "\n",
    "def f3(**arr):\n",
    "    print(arr)\n",
    "\n",
    "\n",
    "f2(\"a\",\"b\",511,1.13)\n",
    "\n",
    "f3(d=\"a\",c=\"b\",b=511,a=1.13)\n",
    "\n",
    "\n",
    "\n"
   ]
  },
  {
   "cell_type": "code",
   "execution_count": null,
   "metadata": {},
   "outputs": [],
   "source": []
  },
  {
   "cell_type": "code",
   "execution_count": null,
   "metadata": {},
   "outputs": [],
   "source": []
  },
  {
   "cell_type": "code",
   "execution_count": 19,
   "metadata": {},
   "outputs": [
    {
     "name": "stdout",
     "output_type": "stream",
     "text": [
      "314.1592653\n"
     ]
    }
   ],
   "source": [
    "def arr(R:float)->float:\n",
    "    return R*R*3.141592653\n",
    "\n",
    "print(arr(10))"
   ]
  },
  {
   "cell_type": "code",
   "execution_count": 22,
   "metadata": {},
   "outputs": [
    {
     "name": "stdout",
     "output_type": "stream",
     "text": [
      "__main__\n",
      "您的BMI是400.000\n",
      "您的體重:重度肥胖\n"
     ]
    }
   ],
   "source": [
    "import pyinputplus as pyip\n",
    "\n",
    "def input_bmi(a:str,min:float=0 , max:float=100 )->float:\n",
    "    try:\n",
    "        a=float(a)\n",
    "\n",
    "    except:\n",
    "        return -1.0\n",
    "    \n",
    "    if min<=a and a<=max :\n",
    "        return a\n",
    "    else :\n",
    "        return -1.0\n",
    "\n",
    "def main():\n",
    "    high=input_bmi(input(\"身高cm\"),max=1000)\n",
    "    weight=input_bmi(input(\"體重kg\"),max=1000)#\"體重kg\"\n",
    "    while high <0:\n",
    "        print(\"輸入錯誤\")\n",
    "        high=input_bmi(input(\"身高cm\"),max=1000)\n",
    "\n",
    "    while weight<0:\n",
    "        print(\"輸入錯誤\")\n",
    "        weight=input_bmi(input(\"體重kg\"),max=1000)#\"體重kg\"\n",
    "\n",
    "    bmi=weight/((high/100)**2)\n",
    "    print(f\"您的BMI是{bmi:.3f}\")\n",
    "    print(\"您的體重:\",end='')\n",
    "    if bmi<18.5:\n",
    "        print(\"體重過輕\")\n",
    "    elif bmi<24:\n",
    "        print(\"正常範圍\")\n",
    "    elif bmi<27 :\n",
    "        print(\"過重\")\n",
    "    elif bmi<30 :\n",
    "        print(\"輕度肥胖\")\n",
    "    elif bmi<35 :\n",
    "        print(\"中度肥胖\")\n",
    "    else :\n",
    "        print(\"重度肥胖\")\n",
    "    return 0\n",
    "\n",
    "if __name__==\"__main__\":\n",
    "    main()"
   ]
  }
 ],
 "metadata": {
  "kernelspec": {
   "display_name": "Python 3",
   "language": "python",
   "name": "python3"
  },
  "language_info": {
   "codemirror_mode": {
    "name": "ipython",
    "version": 3
   },
   "file_extension": ".py",
   "mimetype": "text/x-python",
   "name": "python",
   "nbconvert_exporter": "python",
   "pygments_lexer": "ipython3",
   "version": "3.10.12"
  }
 },
 "nbformat": 4,
 "nbformat_minor": 2
}
