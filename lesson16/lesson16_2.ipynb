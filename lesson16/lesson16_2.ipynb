{
 "cells": [
  {
   "cell_type": "code",
   "execution_count": 13,
   "metadata": {},
   "outputs": [
    {
     "data": {
      "text/html": [
       "<div>\n",
       "<style scoped>\n",
       "    .dataframe tbody tr th:only-of-type {\n",
       "        vertical-align: middle;\n",
       "    }\n",
       "\n",
       "    .dataframe tbody tr th {\n",
       "        vertical-align: top;\n",
       "    }\n",
       "\n",
       "    .dataframe thead th {\n",
       "        text-align: right;\n",
       "    }\n",
       "</style>\n",
       "<table border=\"1\" class=\"dataframe\">\n",
       "  <thead>\n",
       "    <tr style=\"text-align: right;\">\n",
       "      <th></th>\n",
       "      <th>出表日期</th>\n",
       "      <th>資料年月</th>\n",
       "      <th>公司代號</th>\n",
       "      <th>公司名稱</th>\n",
       "      <th>產業別</th>\n",
       "      <th>營業收入-當月營收</th>\n",
       "    </tr>\n",
       "  </thead>\n",
       "  <tbody>\n",
       "    <tr>\n",
       "      <th>0</th>\n",
       "      <td>1110912</td>\n",
       "      <td>11108</td>\n",
       "      <td>1102</td>\n",
       "      <td>亞泥</td>\n",
       "      <td>水泥工業</td>\n",
       "      <td>7069221</td>\n",
       "    </tr>\n",
       "    <tr>\n",
       "      <th>1</th>\n",
       "      <td>1110912</td>\n",
       "      <td>11108</td>\n",
       "      <td>1108</td>\n",
       "      <td>幸福</td>\n",
       "      <td>水泥工業</td>\n",
       "      <td>390053</td>\n",
       "    </tr>\n",
       "    <tr>\n",
       "      <th>2</th>\n",
       "      <td>1110912</td>\n",
       "      <td>11108</td>\n",
       "      <td>1109</td>\n",
       "      <td>信大</td>\n",
       "      <td>水泥工業</td>\n",
       "      <td>478276</td>\n",
       "    </tr>\n",
       "    <tr>\n",
       "      <th>3</th>\n",
       "      <td>1110912</td>\n",
       "      <td>11108</td>\n",
       "      <td>1110</td>\n",
       "      <td>東泥</td>\n",
       "      <td>水泥工業</td>\n",
       "      <td>176935</td>\n",
       "    </tr>\n",
       "    <tr>\n",
       "      <th>4</th>\n",
       "      <td>1110912</td>\n",
       "      <td>11108</td>\n",
       "      <td>1213</td>\n",
       "      <td>大飲</td>\n",
       "      <td>食品工業</td>\n",
       "      <td>38696</td>\n",
       "    </tr>\n",
       "    <tr>\n",
       "      <th>...</th>\n",
       "      <td>...</td>\n",
       "      <td>...</td>\n",
       "      <td>...</td>\n",
       "      <td>...</td>\n",
       "      <td>...</td>\n",
       "      <td>...</td>\n",
       "    </tr>\n",
       "    <tr>\n",
       "      <th>834</th>\n",
       "      <td>1110912</td>\n",
       "      <td>11108</td>\n",
       "      <td>9942</td>\n",
       "      <td>茂順</td>\n",
       "      <td>其他</td>\n",
       "      <td>352730</td>\n",
       "    </tr>\n",
       "    <tr>\n",
       "      <th>835</th>\n",
       "      <td>1110912</td>\n",
       "      <td>11108</td>\n",
       "      <td>9943</td>\n",
       "      <td>好樂迪</td>\n",
       "      <td>觀光事業</td>\n",
       "      <td>212912</td>\n",
       "    </tr>\n",
       "    <tr>\n",
       "      <th>836</th>\n",
       "      <td>1110912</td>\n",
       "      <td>11108</td>\n",
       "      <td>9944</td>\n",
       "      <td>新麗</td>\n",
       "      <td>其他</td>\n",
       "      <td>179660</td>\n",
       "    </tr>\n",
       "    <tr>\n",
       "      <th>837</th>\n",
       "      <td>1110912</td>\n",
       "      <td>11108</td>\n",
       "      <td>9955</td>\n",
       "      <td>佳龍</td>\n",
       "      <td>其他</td>\n",
       "      <td>81881</td>\n",
       "    </tr>\n",
       "    <tr>\n",
       "      <th>838</th>\n",
       "      <td>1110912</td>\n",
       "      <td>11108</td>\n",
       "      <td>9958</td>\n",
       "      <td>世紀鋼</td>\n",
       "      <td>鋼鐵工業</td>\n",
       "      <td>757968</td>\n",
       "    </tr>\n",
       "  </tbody>\n",
       "</table>\n",
       "<p>839 rows × 6 columns</p>\n",
       "</div>"
      ],
      "text/plain": [
       "        出表日期   資料年月  公司代號 公司名稱   產業別  營業收入-當月營收\n",
       "0    1110912  11108  1102   亞泥  水泥工業    7069221\n",
       "1    1110912  11108  1108   幸福  水泥工業     390053\n",
       "2    1110912  11108  1109   信大  水泥工業     478276\n",
       "3    1110912  11108  1110   東泥  水泥工業     176935\n",
       "4    1110912  11108  1213   大飲  食品工業      38696\n",
       "..       ...    ...   ...  ...   ...        ...\n",
       "834  1110912  11108  9942   茂順    其他     352730\n",
       "835  1110912  11108  9943  好樂迪  觀光事業     212912\n",
       "836  1110912  11108  9944   新麗    其他     179660\n",
       "837  1110912  11108  9955   佳龍    其他      81881\n",
       "838  1110912  11108  9958  世紀鋼  鋼鐵工業     757968\n",
       "\n",
       "[839 rows x 6 columns]"
      ]
     },
     "execution_count": 13,
     "metadata": {},
     "output_type": "execute_result"
    }
   ],
   "source": [
    "import pandas as pd\n",
    "try:\n",
    "    df1=pd.read_csv(\"上市公司資料.csv\")\n",
    "except:\n",
    "    pass\n",
    "\n",
    "df2 = df1.reindex(columns=['出表日期','資料年月','公司代號','公司名稱','產業別','營業收入-當月營收'])\n",
    "df2"
   ]
  },
  {
   "cell_type": "code",
   "execution_count": 14,
   "metadata": {},
   "outputs": [],
   "source": [
    "df3=df2.drop(columns=[\"公司代號\"])\n",
    "#df3[df3[\"產業別\"]==\"水泥工業\"]"
   ]
  },
  {
   "cell_type": "code",
   "execution_count": 16,
   "metadata": {},
   "outputs": [
    {
     "name": "stdout",
     "output_type": "stream",
     "text": [
      "{'通信網路業', '其他', '半導體業', '觀光事業', '造紙工業', '貿易百貨', '建材營造', '化學工業', '生技醫療業', '電機機械', '油電燃氣業', '鋼鐵工業', '塑膠工業', '資訊服務業', '食品工業', '電器電纜', '紡織纖維', '航運業', '水泥工業', '電腦及週邊設備業', '汽車工業', '橡膠工業', '其他電子業', '金融保險業', '電子零組件業', '電子通路業', '玻璃陶瓷', '光電業'}\n"
     ]
    }
   ],
   "source": [
    "it=set()\n",
    "for i in df3[\"產業別\"]:\n",
    "    it.add(i)\n",
    "print(it)"
   ]
  },
  {
   "cell_type": "code",
   "execution_count": 19,
   "metadata": {},
   "outputs": [
    {
     "data": {
      "text/plain": [
       "array([1110912, 11108, '亞泥', '水泥工業', 7069221], dtype=object)"
      ]
     },
     "metadata": {},
     "output_type": "display_data"
    }
   ],
   "source": [
    "display(df3.values[0,:])"
   ]
  }
 ],
 "metadata": {
  "kernelspec": {
   "display_name": "Python 3",
   "language": "python",
   "name": "python3"
  },
  "language_info": {
   "codemirror_mode": {
    "name": "ipython",
    "version": 3
   },
   "file_extension": ".py",
   "mimetype": "text/x-python",
   "name": "python",
   "nbconvert_exporter": "python",
   "pygments_lexer": "ipython3",
   "version": "3.10.12"
  }
 },
 "nbformat": 4,
 "nbformat_minor": 2
}
