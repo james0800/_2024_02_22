{
 "cells": [
  {
   "cell_type": "code",
   "execution_count": null,
   "metadata": {},
   "outputs": [],
   "source": [
    "import pandas as pd\n",
    "try:\n",
    "    df1=pd.read_csv(\"上市公司資料.csv\")\n",
    "except:\n",
    "    pass\n",
    "\n",
    "df2 = df1.reindex(columns=['出表日期','資料年月','公司代號','公司名稱','產業別','營業收入-當月營收'])\n",
    "df2"
   ]
  },
  {
   "cell_type": "code",
   "execution_count": 14,
   "metadata": {},
   "outputs": [],
   "source": [
    "df3=df2.drop(columns=[\"公司代號\"])\n",
    "#df3[df3[\"產業別\"]==\"水泥工業\"]"
   ]
  },
  {
   "cell_type": "code",
   "execution_count": 16,
   "metadata": {},
   "outputs": [
    {
     "name": "stdout",
     "output_type": "stream",
     "text": [
      "{'通信網路業', '其他', '半導體業', '觀光事業', '造紙工業', '貿易百貨', '建材營造', '化學工業', '生技醫療業', '電機機械', '油電燃氣業', '鋼鐵工業', '塑膠工業', '資訊服務業', '食品工業', '電器電纜', '紡織纖維', '航運業', '水泥工業', '電腦及週邊設備業', '汽車工業', '橡膠工業', '其他電子業', '金融保險業', '電子零組件業', '電子通路業', '玻璃陶瓷', '光電業'}\n"
     ]
    }
   ],
   "source": [
    "it=set()\n",
    "for i in df3[\"產業別\"]:\n",
    "    it.add(i)\n",
    "print(it)"
   ]
  },
  {
   "cell_type": "code",
   "execution_count": 19,
   "metadata": {},
   "outputs": [
    {
     "data": {
      "text/plain": [
       "array([1110912, 11108, '亞泥', '水泥工業', 7069221], dtype=object)"
      ]
     },
     "metadata": {},
     "output_type": "display_data"
    }
   ],
   "source": [
    "display(df3.values[0,:])"
   ]
  }
 ],
 "metadata": {
  "kernelspec": {
   "display_name": "Python 3",
   "language": "python",
   "name": "python3"
  },
  "language_info": {
   "codemirror_mode": {
    "name": "ipython",
    "version": 3
   },
   "file_extension": ".py",
   "mimetype": "text/x-python",
   "name": "python",
   "nbconvert_exporter": "python",
   "pygments_lexer": "ipython3",
   "version": "3.10.12"
  }
 },
 "nbformat": 4,
 "nbformat_minor": 2
}
