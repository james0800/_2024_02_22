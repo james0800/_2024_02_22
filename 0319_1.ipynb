{
 "cells": [
  {
   "cell_type": "code",
   "execution_count": 2,
   "metadata": {},
   "outputs": [
    {
     "name": "stdout",
     "output_type": "stream",
     "text": [
      "<class '__main__.Student'>\n",
      "我的名字是徐國堂\n",
      "90\n",
      "80\n",
      "170\n",
      "85.0\n"
     ]
    }
   ],
   "source": [
    "class Person():\n",
    "    def __init__(self,n:str):\n",
    "        #建立實體屬性attribute\n",
    "        self.name = n\n",
    "    \n",
    "    #實體的method\n",
    "    def exclaim(self):\n",
    "        print(f\"我的名字是{self.name}\")\n",
    "\n",
    "class Student(Person):\n",
    "    def __init__(self,na:str,ch:int=0,en:int=0):\n",
    "        super().__init__(n=na)\n",
    "        self.chinese = ch\n",
    "        self.english = en\n",
    "\n",
    "    def sum(self)->int:\n",
    "        return self.chinese + self.english\n",
    "    \n",
    "    @property\n",
    "    def average(self) -> float:\n",
    "        return self.sum() / 2\n",
    "\n",
    "\n",
    "stu1 = Student(na=\"徐國堂\",ch=90,en=80)\n",
    "print(type(stu1))\n",
    "stu1.exclaim()\n",
    "print(stu1.chinese)\n",
    "print(stu1.english)\n",
    "print(stu1.sum())\n",
    "print(stu1.average)"
   ]
  }
 ],
 "metadata": {
  "kernelspec": {
   "display_name": "Python 3",
   "language": "python",
   "name": "python3"
  },
  "language_info": {
   "codemirror_mode": {
    "name": "ipython",
    "version": 3
   },
   "file_extension": ".py",
   "mimetype": "text/x-python",
   "name": "python",
   "nbconvert_exporter": "python",
   "pygments_lexer": "ipython3",
   "version": "3.10.12"
  }
 },
 "nbformat": 4,
 "nbformat_minor": 2
}
