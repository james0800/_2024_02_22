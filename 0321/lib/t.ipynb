{
 "cells": [
  {
   "cell_type": "code",
   "execution_count": 2,
   "metadata": {},
   "outputs": [
    {
     "data": {
      "text/plain": [
       "['楊火帆', '鄧亭聿', '葉軍仰', '朱士弘', '趙家豪']"
      ]
     },
     "execution_count": 2,
     "metadata": {},
     "output_type": "execute_result"
    }
   ],
   "source": [
    "import random\n",
    "def f(num:int):\n",
    "    with open(\"names.txt\",encoding=\"utf8\") as file:\n",
    "        con=file.read()\n",
    "        arr:list[str]=con.split('\\n')\n",
    "        name=random.choices(arr,k=num)\n",
    "        return name\n",
    "        file.close()\n",
    "names:list[str]=f(5)\n",
    "names\n"
   ]
  }
 ],
 "metadata": {
  "kernelspec": {
   "display_name": "Python 3",
   "language": "python",
   "name": "python3"
  },
  "language_info": {
   "codemirror_mode": {
    "name": "ipython",
    "version": 3
   },
   "file_extension": ".py",
   "mimetype": "text/x-python",
   "name": "python",
   "nbconvert_exporter": "python",
   "pygments_lexer": "ipython3",
   "version": "3.10.12"
  }
 },
 "nbformat": 4,
 "nbformat_minor": 2
}
