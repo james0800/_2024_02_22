{
 "cells": [
  {
   "cell_type": "code",
   "execution_count": 10,
   "metadata": {},
   "outputs": [
    {
     "name": "stdout",
     "output_type": "stream",
     "text": [
      "['楊建安', '李政白', '彭虹屏', '王惠皓']\n"
     ]
    }
   ],
   "source": [
    "import random\n",
    "def f(num:int):\n",
    "    with open(\"names.txt\",encoding=\"utf8\") as file:\n",
    "        con=file.read()\n",
    "        arr:list[str]=con.split('\\n')\n",
    "        name=random.choices(arr,k=num)\n",
    "        return name\n",
    "        file.close()\n",
    "\n",
    "        print(file.closed)  \n",
    "print(f(4))"
   ]
  },
  {
   "cell_type": "code",
   "execution_count": 8,
   "metadata": {},
   "outputs": [
    {
     "ename": "NameError",
     "evalue": "name 'f' is not defined",
     "output_type": "error",
     "traceback": [
      "\u001b[0;31m---------------------------------------------------------------------------\u001b[0m",
      "\u001b[0;31mNameError\u001b[0m                                 Traceback (most recent call last)",
      "Cell \u001b[0;32mIn[8], line 3\u001b[0m\n\u001b[1;32m      1\u001b[0m \u001b[38;5;28;01mimport\u001b[39;00m \u001b[38;5;21;01mlib\u001b[39;00m\u001b[38;5;21;01m.\u001b[39;00m\u001b[38;5;21;01mMC2\u001b[39;00m\n\u001b[1;32m      2\u001b[0m \u001b[38;5;28;01mimport\u001b[39;00m \u001b[38;5;21;01mpyinputplus\u001b[39;00m \u001b[38;5;28;01mas\u001b[39;00m \u001b[38;5;21;01mpyip\u001b[39;00m\n\u001b[0;32m----> 3\u001b[0m names:\u001b[38;5;28mlist\u001b[39m[\u001b[38;5;28mstr\u001b[39m]\u001b[38;5;241m=\u001b[39m\u001b[43mf\u001b[49m(\u001b[38;5;241m5\u001b[39m)\n\u001b[1;32m      4\u001b[0m stu:\u001b[38;5;28mlist\u001b[39m[\u001b[38;5;28mdict\u001b[39m:\u001b[38;5;28many\u001b[39m]\u001b[38;5;241m=\u001b[39m{}\n\u001b[1;32m      5\u001b[0m \u001b[38;5;28;01mfor\u001b[39;00m i \u001b[38;5;129;01min\u001b[39;00m \u001b[38;5;28mrange\u001b[39m(\u001b[38;5;241m5\u001b[39m):\n",
      "\u001b[0;31mNameError\u001b[0m: name 'f' is not defined"
     ]
    }
   ],
   "source": [
    "import lib.MC2\n",
    "import pyinputplus as pyip\n",
    "names:list[str]=f(5)\n",
    "stu:list[dict:any]={}\n",
    "for i in range(5):\n",
    "    stu[i][\"name\"]=names[i]\n",
    "#    stu[i][\"ch\"]=random.randint(50,60)\n",
    "    \n",
    "print(stu)\n",
    "    "
   ]
  },
  {
   "cell_type": "code",
   "execution_count": 1,
   "metadata": {},
   "outputs": [
    {
     "name": "stdout",
     "output_type": "stream",
     "text": [
      "[{'name': '王德城', 'ch': 4}, {'name': '簡國瑋', 'ch': 7}, {'name': '藍哲嘉', 'ch': 2}, {'name': '溫重意', 'ch': 7}, {'name': '黃麗美', 'ch': 2}]\n"
     ]
    },
    {
     "ename": "NameError",
     "evalue": "name 'f' is not defined",
     "output_type": "error",
     "traceback": [
      "\u001b[0;31m---------------------------------------------------------------------------\u001b[0m",
      "\u001b[0;31mNameError\u001b[0m                                 Traceback (most recent call last)",
      "Cell \u001b[0;32mIn[1], line 4\u001b[0m\n\u001b[1;32m      2\u001b[0m \u001b[38;5;28;01mimport\u001b[39;00m \u001b[38;5;21;01mrandom\u001b[39;00m\n\u001b[1;32m      3\u001b[0m \u001b[38;5;28;01mimport\u001b[39;00m \u001b[38;5;21;01mlib\u001b[39;00m\u001b[38;5;21;01m.\u001b[39;00m\u001b[38;5;21;01mMC2\u001b[39;00m\n\u001b[0;32m----> 4\u001b[0m names:\u001b[38;5;28mlist\u001b[39m[\u001b[38;5;28mstr\u001b[39m]\u001b[38;5;241m=\u001b[39m\u001b[43mf\u001b[49m(\u001b[38;5;241m5\u001b[39m)\n\u001b[1;32m      5\u001b[0m st:\u001b[38;5;28mlist\u001b[39m\u001b[38;5;241m=\u001b[39m[]\n\u001b[1;32m      6\u001b[0m \u001b[38;5;28;01mfor\u001b[39;00m i \u001b[38;5;129;01min\u001b[39;00m names:\n",
      "\u001b[0;31mNameError\u001b[0m: name 'f' is not defined"
     ]
    }
   ],
   "source": [
    "from pprint import pprint\n",
    "import random\n",
    "import lib.MC2\n",
    "names:list[str]=f(5)\n",
    "st:list=[]\n",
    "for i in names:\n",
    "    stu:dict={}\n",
    "    stu[\"name\"]=i\n",
    "    stu[\"ch\"]=random.randint(0,10)\n",
    "    st.append(stu)\n",
    "print(st)"
   ]
  },
  {
   "cell_type": "code",
   "execution_count": 1,
   "metadata": {},
   "outputs": [
    {
     "name": "stdout",
     "output_type": "stream",
     "text": [
      "[{'name': '程玫靖', 'ch': 7}, {'name': '陳怡珊', 'ch': 2}, {'name': '王雅琴', 'ch': 7}, {'name': '郭舜昇', 'ch': 2}, {'name': '楊又源', 'ch': 1}]\n"
     ]
    },
    {
     "ename": "NameError",
     "evalue": "name 'f' is not defined",
     "output_type": "error",
     "traceback": [
      "\u001b[0;31m---------------------------------------------------------------------------\u001b[0m",
      "\u001b[0;31mNameError\u001b[0m                                 Traceback (most recent call last)",
      "Cell \u001b[0;32mIn[1], line 7\u001b[0m\n\u001b[1;32m      4\u001b[0m \u001b[38;5;28;01mimport\u001b[39;00m \u001b[38;5;21;01mpyinputplus\u001b[39;00m \u001b[38;5;28;01mas\u001b[39;00m \u001b[38;5;21;01mpyip\u001b[39;00m\n\u001b[1;32m      6\u001b[0m num:\u001b[38;5;28mint\u001b[39m\u001b[38;5;241m=\u001b[39mpyip\u001b[38;5;241m.\u001b[39minputInt()\n\u001b[0;32m----> 7\u001b[0m names:\u001b[38;5;28mlist\u001b[39m[\u001b[38;5;28mstr\u001b[39m]\u001b[38;5;241m=\u001b[39m\u001b[43mf\u001b[49m(num)\n\u001b[1;32m      8\u001b[0m st:\u001b[38;5;28mlist\u001b[39m\u001b[38;5;241m=\u001b[39m[]\n\u001b[1;32m      9\u001b[0m \u001b[38;5;28;01mfor\u001b[39;00m i \u001b[38;5;129;01min\u001b[39;00m names:\n",
      "\u001b[0;31mNameError\u001b[0m: name 'f' is not defined"
     ]
    }
   ],
   "source": [
    "from pprint import pprint\n",
    "import random\n",
    "import lib.MC2\n",
    "import pyinputplus as pyip\n",
    "\n",
    "num:int=pyip.inputInt()\n",
    "names:list[str]=f(num)\n",
    "st:list=[]\n",
    "for i in names:\n",
    "    stu:dict={}\n",
    "    stu[\"name\"]=i\n",
    "    stu[\"height\"]=random.randint(150,220)\n",
    "    \n",
    "    \n",
    "    stu[\"weight\"]=random.randint(40,90)\n",
    "    \n",
    "    st.append(stu)\n",
    "st"
   ]
  }
 ],
 "metadata": {
  "kernelspec": {
   "display_name": "Python 3",
   "language": "python",
   "name": "python3"
  },
  "language_info": {
   "codemirror_mode": {
    "name": "ipython",
    "version": 3
   },
   "file_extension": ".py",
   "mimetype": "text/x-python",
   "name": "python",
   "nbconvert_exporter": "python",
   "pygments_lexer": "ipython3",
   "version": "3.10.12"
  }
 },
 "nbformat": 4,
 "nbformat_minor": 2
}
