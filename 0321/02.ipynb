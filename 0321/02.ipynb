{
 "cells": [
  {
   "cell_type": "code",
   "execution_count": 9,
   "metadata": {},
   "outputs": [
    {
     "name": "stdout",
     "output_type": "stream",
     "text": [
      "['王德城', '林淑安', '李進慧', '林怡偉']\n"
     ]
    }
   ],
   "source": [
    "import random\n",
    "def f(num:int):\n",
    "    with open(\"names.txt\",encoding=\"utf8\") as file:\n",
    "        con=file.read()\n",
    "        arr:list[str]=con.split('\\n')\n",
    "        name=random.choices(arr,k=num)\n",
    "        return name\n",
    "        file.close()\n",
    "\n",
    "        print(file.closed)  \n",
    "print(f(4))"
   ]
  },
  {
   "cell_type": "code",
   "execution_count": 15,
   "metadata": {},
   "outputs": [
    {
     "ename": "KeyError",
     "evalue": "0",
     "output_type": "error",
     "traceback": [
      "\u001b[0;31m---------------------------------------------------------------------------\u001b[0m",
      "\u001b[0;31mKeyError\u001b[0m                                  Traceback (most recent call last)",
      "Cell \u001b[0;32mIn[15], line 6\u001b[0m\n\u001b[1;32m      4\u001b[0m stu:\u001b[38;5;28mlist\u001b[39m[\u001b[38;5;28mdict\u001b[39m:\u001b[38;5;28many\u001b[39m]\u001b[38;5;241m=\u001b[39m{}\n\u001b[1;32m      5\u001b[0m \u001b[38;5;28;01mfor\u001b[39;00m i \u001b[38;5;129;01min\u001b[39;00m \u001b[38;5;28mrange\u001b[39m(\u001b[38;5;241m5\u001b[39m):\n\u001b[0;32m----> 6\u001b[0m     \u001b[43mstu\u001b[49m\u001b[43m[\u001b[49m\u001b[43mi\u001b[49m\u001b[43m]\u001b[49m[\u001b[38;5;124m\"\u001b[39m\u001b[38;5;124mname\u001b[39m\u001b[38;5;124m\"\u001b[39m]\u001b[38;5;241m=\u001b[39mnames[i]\n\u001b[1;32m      7\u001b[0m \u001b[38;5;66;03m#    stu[i][\"ch\"]=random.randint(50,60)\u001b[39;00m\n\u001b[1;32m      9\u001b[0m \u001b[38;5;28mprint\u001b[39m(stu)\n",
      "\u001b[0;31mKeyError\u001b[0m: 0"
     ]
    }
   ],
   "source": [
    "import lib.MC2\n",
    "import pyinputplus as pyip\n",
    "names:list[str]=f(5)\n",
    "stu:list[dict:any]={}\n",
    "for i in range(5):\n",
    "    stu[i][\"name\"]=names[i]\n",
    "#    stu[i][\"ch\"]=random.randint(50,60)\n",
    "    \n",
    "print(stu)\n",
    "    "
   ]
  },
  {
   "cell_type": "code",
   "execution_count": 26,
   "metadata": {},
   "outputs": [
    {
     "name": "stdout",
     "output_type": "stream",
     "text": [
      "[{'name': '林思賢', 'ch': 7}, {'name': '吳麗卿', 'ch': 0}, {'name': '王良斌', 'ch': 0}, {'name': '葉志峰', 'ch': 1}, {'name': '余宗儒', 'ch': 4}]\n"
     ]
    }
   ],
   "source": [
    "from pprint import pprint\n",
    "import random\n",
    "import lib.MC2\n",
    "names:list[str]=f(5)\n",
    "st:list=[]\n",
    "for i in names:\n",
    "    stu:dict={}\n",
    "    stu[\"name\"]=i\n",
    "    stu[\"ch\"]=random.randint(0,10)\n",
    "    st.append(stu)\n",
    "print(st)"
   ]
  },
  {
   "cell_type": "code",
   "execution_count": 32,
   "metadata": {},
   "outputs": [
    {
     "data": {
      "text/plain": [
       "[{'height': 163, 'name': '陳俊憲', 'weight': 68},\n",
       " {'height': 189, 'name': '羅佩樺', 'weight': 89},\n",
       " {'height': 162, 'name': '朱彥志', 'weight': 40},\n",
       " {'height': 181, 'name': '陳建豪', 'weight': 46},\n",
       " {'height': 200, 'name': '余月修', 'weight': 85}]"
      ]
     },
     "execution_count": 32,
     "metadata": {},
     "output_type": "execute_result"
    }
   ],
   "source": [
    "from pprint import pprint\n",
    "import random\n",
    "import lib.MC2\n",
    "import pyinputplus as pyip\n",
    "\n",
    "num:int=pyip.inputInt()\n",
    "names:list[str]=f(num)\n",
    "st:list=[]\n",
    "for i in names:\n",
    "    stu:dict={}\n",
    "    stu[\"height\"]=random.randint(150,220)\n",
    "    stu[\"name\"]=i\n",
    "    \n",
    "    stu[\"weight\"]=random.randint(40,90)\n",
    "    \n",
    "    st.append(stu)\n",
    "st"
   ]
  }
 ],
 "metadata": {
  "kernelspec": {
   "display_name": "Python 3",
   "language": "python",
   "name": "python3"
  },
  "language_info": {
   "codemirror_mode": {
    "name": "ipython",
    "version": 3
   },
   "file_extension": ".py",
   "mimetype": "text/x-python",
   "name": "python",
   "nbconvert_exporter": "python",
   "pygments_lexer": "ipython3",
   "version": "3.10.12"
  }
 },
 "nbformat": 4,
 "nbformat_minor": 2
}
