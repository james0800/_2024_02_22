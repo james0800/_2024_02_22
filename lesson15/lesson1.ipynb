{
 "cells": [
  {
   "cell_type": "code",
   "execution_count": 6,
   "metadata": {},
   "outputs": [
    {
     "name": "stdout",
     "output_type": "stream",
     "text": [
      "[ 5  7  9  4 10]\n",
      "A     5\n",
      "b     7\n",
      "C     9\n",
      "D     4\n",
      "E    10\n",
      "dtype: int64\n",
      "E    10\n",
      "A     5\n",
      "b     7\n",
      "dtype: int64\n",
      "T1     100\n",
      "T2      71\n",
      "DF      80\n",
      "GR      75\n",
      "FED      5\n",
      "dtype: int64\n",
      "A     NaN\n",
      "C     NaN\n",
      "D     NaN\n",
      "DF    NaN\n",
      "E     NaN\n",
      "FED   NaN\n",
      "GR    NaN\n",
      "T1    NaN\n",
      "T2    NaN\n",
      "b     NaN\n",
      "dtype: float64\n"
     ]
    },
    {
     "data": {
      "image/png": "[encoded data removed]",
      "text/plain": [
       "<Figure size 640x480 with 1 Axes>"
      ]
     },
     "metadata": {},
     "output_type": "display_data"
    }
   ],
   "source": [
    "import numpy as np\n",
    "import pandas as pd\n",
    "import matplotlib.pyplot as plt\n",
    "\n",
    "serial1=np.array([5,7,9,4,10])\n",
    "print(serial1)\n",
    "serial2=pd.Series(serial1,index=[\"A\",\"b\",\"C\",\"D\",\"E\"])\n",
    "print(serial2)\n",
    "print(serial2[[\"E\",\"A\",\"b\"]])\n",
    "dicData={\"T1\":100,\"T2\":71,\"DF\":80,\"GR\":75,\"FED\":5}\n",
    "\n",
    "serial3=pd.Series(dicData)\n",
    "print(serial3)\n",
    "print(serial3*serial2)\n",
    "ax=plt.subplot()\n",
    "ax.bar(serial3.index,serial3.values)\n",
    "plt.show()"
   ]
  },
  {
   "cell_type": "code",
   "execution_count": null,
   "metadata": {},
   "outputs": [],
   "source": []
  },
  {
   "cell_type": "code",
   "execution_count": 13,
   "metadata": {},
   "outputs": [
    {
     "data": {
      "text/html": [
       "<div>\n",
       "<style scoped>\n",
       "    .dataframe tbody tr th:only-of-type {\n",
       "        vertical-align: middle;\n",
       "    }\n",
       "\n",
       "    .dataframe tbody tr th {\n",
       "        vertical-align: top;\n",
       "    }\n",
       "\n",
       "    .dataframe thead th {\n",
       "        text-align: right;\n",
       "    }\n",
       "</style>\n",
       "<table border=\"1\" class=\"dataframe\">\n",
       "  <thead>\n",
       "    <tr style=\"text-align: right;\">\n",
       "      <th></th>\n",
       "      <th>縣市</th>\n",
       "      <th>人口</th>\n",
       "      <th>年份</th>\n",
       "    </tr>\n",
       "  </thead>\n",
       "  <tbody>\n",
       "    <tr>\n",
       "      <th>一</th>\n",
       "      <td>台北</td>\n",
       "      <td>2.2</td>\n",
       "      <td>2000</td>\n",
       "    </tr>\n",
       "    <tr>\n",
       "      <th>二</th>\n",
       "      <td>台北</td>\n",
       "      <td>2.5</td>\n",
       "      <td>2001</td>\n",
       "    </tr>\n",
       "    <tr>\n",
       "      <th>三</th>\n",
       "      <td>台北</td>\n",
       "      <td>2.7</td>\n",
       "      <td>2002</td>\n",
       "    </tr>\n",
       "    <tr>\n",
       "      <th>四</th>\n",
       "      <td>新竹</td>\n",
       "      <td>1.1</td>\n",
       "      <td>2001</td>\n",
       "    </tr>\n",
       "    <tr>\n",
       "      <th>五</th>\n",
       "      <td>新竹</td>\n",
       "      <td>1.5</td>\n",
       "      <td>2002</td>\n",
       "    </tr>\n",
       "    <tr>\n",
       "      <th>六</th>\n",
       "      <td>新竹</td>\n",
       "      <td>2.0</td>\n",
       "      <td>2003</td>\n",
       "    </tr>\n",
       "  </tbody>\n",
       "</table>\n",
       "</div>"
      ],
      "text/plain": [
       "   縣市   人口    年份\n",
       "一  台北  2.2  2000\n",
       "二  台北  2.5  2001\n",
       "三  台北  2.7  2002\n",
       "四  新竹  1.1  2001\n",
       "五  新竹  1.5  2002\n",
       "六  新竹  2.0  2003"
      ]
     },
     "execution_count": 13,
     "metadata": {},
     "output_type": "execute_result"
    }
   ],
   "source": [
    "import pandas as pd\n",
    "data = {\n",
    "    '縣市': ['台北','台北','台北', '新竹', '新竹', '新竹'],\n",
    "    '年份': [2000, 2001, 2002, 2001, 2002, 2003],\n",
    "    '人口': [2.2, 2.5, 2.7, 1.1, 1.5, 2.0]\n",
    "}\n",
    "pd.DataFrame(data)\n",
    "df1=pd.DataFrame(data,index=[\"一\",\"二\",\"三\",\"四\",\"五\",\"六\"],columns=[\"縣市\",\"人口\",\"年份\"])\n",
    "df1"
   ]
  },
  {
   "cell_type": "code",
   "execution_count": 9,
   "metadata": {},
   "outputs": [
    {
     "name": "stdout",
     "output_type": "stream",
     "text": [
      "[[2.2, 2.5, 2.7, 1.1, 1.5, 2.0]]\n",
      "[2000, 2001, 2002, 2001, 2002, 2003]\n",
      "['台北', '台北', '台北', '新竹', '新竹', '新竹']\n"
     ]
    }
   ],
   "source": [
    "print([data[\"人口\"]])\n",
    "print(data[\"年份\"])\n",
    "print(data[\"縣市\"])\n"
   ]
  },
  {
   "cell_type": "code",
   "execution_count": 14,
   "metadata": {},
   "outputs": [
    {
     "data": {
      "text/html": [
       "<div>\n",
       "<style scoped>\n",
       "    .dataframe tbody tr th:only-of-type {\n",
       "        vertical-align: middle;\n",
       "    }\n",
       "\n",
       "    .dataframe tbody tr th {\n",
       "        vertical-align: top;\n",
       "    }\n",
       "\n",
       "    .dataframe thead th {\n",
       "        text-align: right;\n",
       "    }\n",
       "</style>\n",
       "<table border=\"1\" class=\"dataframe\">\n",
       "  <thead>\n",
       "    <tr style=\"text-align: right;\">\n",
       "      <th></th>\n",
       "      <th>縣市</th>\n",
       "      <th>年份</th>\n",
       "      <th>人口</th>\n",
       "    </tr>\n",
       "  </thead>\n",
       "  <tbody>\n",
       "    <tr>\n",
       "      <th>0</th>\n",
       "      <td>台北</td>\n",
       "      <td>2000</td>\n",
       "      <td>2.2</td>\n",
       "    </tr>\n",
       "    <tr>\n",
       "      <th>1</th>\n",
       "      <td>台中</td>\n",
       "      <td>2001</td>\n",
       "      <td>1.1</td>\n",
       "    </tr>\n",
       "    <tr>\n",
       "      <th>2</th>\n",
       "      <td>新竹</td>\n",
       "      <td>2001</td>\n",
       "      <td>1.5</td>\n",
       "    </tr>\n",
       "  </tbody>\n",
       "</table>\n",
       "</div>"
      ],
      "text/plain": [
       "   縣市    年份   人口\n",
       "0  台北  2000  2.2\n",
       "1  台中  2001  1.1\n",
       "2  新竹  2001  1.5"
      ]
     },
     "execution_count": 14,
     "metadata": {},
     "output_type": "execute_result"
    }
   ],
   "source": [
    "data = [\n",
    "    {'縣市':'台北', '年份':2000, '人口': 2.2},\n",
    "    {'縣市':'台中', '年份':2001, '人口': 1.1},\n",
    "    {'縣市':'新竹', '年份':2001, '人口': 1.5},\n",
    "]\n",
    "df2=pd.DataFrame(data)\n",
    "df2"
   ]
  },
  {
   "cell_type": "code",
   "execution_count": 28,
   "metadata": {},
   "outputs": [
    {
     "name": "stdout",
     "output_type": "stream",
     "text": [
      "[[65 94 62 97 65]\n",
      " [89 62 50 80 77]\n",
      " [68 63 86 77 87]\n",
      " [53 87 59 78 50]\n",
      " [62 89 69 57 76]\n",
      " [56 57 69 53 68]\n",
      " [74 59 81 66 87]\n",
      " [57 88 77 81 71]\n",
      " [97 61 99 90 50]\n",
      " [61 52 61 69 86]]\n",
      "     C   E   M   S   H  total   ave\n",
      "1   65  94  62  97  65    383  76.6\n",
      "2   89  62  50  80  77    358  71.6\n",
      "3   68  63  86  77  87    381  76.2\n",
      "4   53  87  59  78  50    327  65.4\n",
      "5   62  89  69  57  76    353  70.6\n",
      "6   56  57  69  53  68    303  60.6\n",
      "7   74  59  81  66  87    367  73.4\n",
      "8   57  88  77  81  71    374  74.8\n",
      "9   97  61  99  90  50    397  79.4\n",
      "10  61  52  61  69  86    329  65.8\n"
     ]
    }
   ],
   "source": [
    "arr=np.random.randint(50,101,size=(10,5))\n",
    "print(arr)\n",
    "arr2=pd.DataFrame(arr,columns=[\"C\",\"E\",\"M\",\"S\",\"H\"],index=range(1,11))\n",
    "\n",
    "total=arr2[\"C\"]+arr2[\"E\"]+arr2[\"M\"]+arr2[\"H\"]+arr2[\"S\"]\n",
    "arr2[\"total\"]=total\n",
    "arr2[\"ave\"]=total/5.0\n",
    "print(arr2)"
   ]
  },
  {
   "cell_type": "code",
   "execution_count": 30,
   "metadata": {},
   "outputs": [
    {
     "name": "stdout",
     "output_type": "stream",
     "text": [
      "    C   E   M   S   H  total   ave\n",
      "1  65  94  62  97  65    383  76.6\n",
      "2  89  62  50  80  77    358  71.6\n",
      "3  68  63  86  77  87    381  76.2\n",
      "     C   E   M   S   H  total   ave\n",
      "8   57  88  77  81  71    374  74.8\n",
      "9   97  61  99  90  50    397  79.4\n",
      "10  61  52  61  69  86    329  65.8\n"
     ]
    }
   ],
   "source": [
    "print(pd.DataFrame(arr2.iloc[:3]))\n",
    "print(pd.DataFrame(arr2.iloc[-3:]))\n"
   ]
  }
 ],
 "metadata": {
  "kernelspec": {
   "display_name": "Python 3",
   "language": "python",
   "name": "python3"
  },
  "language_info": {
   "codemirror_mode": {
    "name": "ipython",
    "version": 3
   },
   "file_extension": ".py",
   "mimetype": "text/x-python",
   "name": "python",
   "nbconvert_exporter": "python",
   "pygments_lexer": "ipython3",
   "version": "3.10.12"
  }
 },
 "nbformat": 4,
 "nbformat_minor": 2
}
