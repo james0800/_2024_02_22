{
 "cells": [
  {
   "cell_type": "code",
   "execution_count": 1,
   "metadata": {},
   "outputs": [
    {
     "name": "stdout",
     "output_type": "stream",
     "text": [
      "error\n",
      "error\n",
      "error\n",
      "error\n",
      "5\n"
     ]
    }
   ],
   "source": [
    "while True:\n",
    "    try:\n",
    "        st=input()\n",
    "        i=int(st)\n",
    "    except:\n",
    "        print(\"error\")\n",
    "        continue\n",
    "    else:\n",
    "        break\n",
    "\n",
    "print(i)"
   ]
  },
  {
   "cell_type": "code",
   "execution_count": 8,
   "metadata": {},
   "outputs": [
    {
     "name": "stdout",
     "output_type": "stream",
     "text": [
      "nameffff\n"
     ]
    }
   ],
   "source": [
    "import pyinputplus as pyip\n",
    "a=pyip.inputStr(\"name\",strip=\" \")\n",
    "print(a)"
   ]
  },
  {
   "cell_type": "code",
   "execution_count": 15,
   "metadata": {},
   "outputs": [
    {
     "name": "stdout",
     "output_type": "stream",
     "text": [
      "7\n"
     ]
    }
   ],
   "source": [
    "import random\n",
    "a=random.randint(0,10)\n",
    "print(a)"
   ]
  },
  {
   "cell_type": "code",
   "execution_count": 16,
   "metadata": {},
   "outputs": [
    {
     "name": "stdout",
     "output_type": "stream",
     "text": [
      "1\n",
      "input1~10Number must be at minimum 1.\n",
      "input1~10Number must be at maximum 10.\n",
      "input1~10Number must be at maximum 10.\n",
      "input1~10fail\n",
      "input1~10fail\n",
      "input1~10fail\n",
      "input1~10fail\n",
      "input1~10right\n"
     ]
    }
   ],
   "source": [
    "import random\n",
    "import pyinputplus as pyip\n",
    "\n",
    "min=1\n",
    "max=10\n",
    "i=-10\n",
    "anser=random.randint(min,max)\n",
    "print(anser)\n",
    "while True:\n",
    "    i=pyip.inputInt(f\"input{min}~{max}\",min=min,max=max)\n",
    "    if i!=anser :\n",
    "        print(\"fail\")\n",
    "    else :\n",
    "        print(\"right\")\n",
    "        break\n"
   ]
  }
 ],
 "metadata": {
  "kernelspec": {
   "display_name": "Python 3",
   "language": "python",
   "name": "python3"
  },
  "language_info": {
   "codemirror_mode": {
    "name": "ipython",
    "version": 3
   },
   "file_extension": ".py",
   "mimetype": "text/x-python",
   "name": "python",
   "nbconvert_exporter": "python",
   "pygments_lexer": "ipython3",
   "version": "3.10.12"
  }
 },
 "nbformat": 4,
 "nbformat_minor": 2
}
